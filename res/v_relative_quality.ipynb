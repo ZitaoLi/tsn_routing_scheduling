{
 "cells": [
  {
   "cell_type": "code",
   "execution_count": 26,
   "metadata": {
    "collapsed": true,
    "pycharm": {
     "is_executing": false,
     "name": "#%%\n"
    }
   },
   "outputs": [
    {
     "traceback": [
      "\u001b[1;31m---------------------------------------------------------------------------\u001b[0m",
      "\u001b[1;31mIndexError\u001b[0m                                Traceback (most recent call last)",
      "\u001b[1;32m<ipython-input-26-d831aadf73dd>\u001b[0m in \u001b[0;36m<module>\u001b[1;34m\u001b[0m\n\u001b[0;32m     66\u001b[0m         \u001b[0mDAEAP_objective_value_list\u001b[0m \u001b[1;33m=\u001b[0m \u001b[0mDAEAP_objective_value_list_list\u001b[0m\u001b[1;33m[\u001b[0m\u001b[0mi\u001b[0m\u001b[1;33m]\u001b[0m\u001b[1;33m\u001b[0m\u001b[1;33m\u001b[0m\u001b[0m\n\u001b[0;32m     67\u001b[0m         \u001b[1;32mfor\u001b[0m \u001b[0mj\u001b[0m \u001b[1;32min\u001b[0m \u001b[0mrange\u001b[0m\u001b[1;33m(\u001b[0m\u001b[0mDAEAP_objective_value_list\u001b[0m\u001b[1;33m.\u001b[0m\u001b[0m__len__\u001b[0m\u001b[1;33m(\u001b[0m\u001b[1;33m)\u001b[0m\u001b[1;33m)\u001b[0m\u001b[1;33m:\u001b[0m\u001b[1;33m\u001b[0m\u001b[1;33m\u001b[0m\u001b[0m\n\u001b[1;32m---> 68\u001b[1;33m             \u001b[0mobjective_value\u001b[0m \u001b[1;33m=\u001b[0m \u001b[0mobjective_value_list\u001b[0m\u001b[1;33m[\u001b[0m\u001b[0mj\u001b[0m\u001b[1;33m]\u001b[0m\u001b[1;33m\u001b[0m\u001b[1;33m\u001b[0m\u001b[0m\n\u001b[0m\u001b[0;32m     69\u001b[0m             \u001b[0mDAEAP_objective_value\u001b[0m \u001b[1;33m=\u001b[0m \u001b[0mDAEAP_objective_value_list\u001b[0m\u001b[1;33m[\u001b[0m\u001b[0mj\u001b[0m\u001b[1;33m]\u001b[0m\u001b[1;33m\u001b[0m\u001b[1;33m\u001b[0m\u001b[0m\n\u001b[0;32m     70\u001b[0m             \u001b[1;32mfor\u001b[0m \u001b[0mk\u001b[0m \u001b[1;32min\u001b[0m \u001b[0mrange\u001b[0m\u001b[1;33m(\u001b[0m\u001b[1;36m21\u001b[0m\u001b[1;33m)\u001b[0m\u001b[1;33m:\u001b[0m\u001b[1;33m\u001b[0m\u001b[1;33m\u001b[0m\u001b[0m\n",
      "\u001b[1;31mIndexError\u001b[0m: list index out of range"
     ],
     "ename": "IndexError",
     "evalue": "list index out of range",
     "output_type": "error"
    }
   ],
   "source": [
    "import csv\n",
    "%matplotlib inline\n",
    "import numpy as np\n",
    "import os\n",
    "import re\n",
    "import matplotlib.pyplot as plt\n",
    "import matplotlib.ticker as ticker\n",
    "\n",
    "DIR_NAME = './flow_size/'\n",
    "FIG_SIZE = (5, 4)\n",
    "fontdict = {'family': 'Times New Roman', 'weight': 'normal', 'size':15}\n",
    "\n",
    "filenames = os.listdir(DIR_NAME)\n",
    "filenames_dict = {\n",
    "    'R/AEAP': [],\n",
    "    'R/AEAP-BF': [],\n",
    "    'R/AEAP-WF': [],\n",
    "    'D/AEAP': [],\n",
    "    'ILS': []\n",
    "}\n",
    "\n",
    "for filename in filenames:\n",
    "    if re.match(r'b.*(ba|rrg|er).*backtracking.*aeap\\.csv', filename):\n",
    "        filenames_dict['R/AEAP'].append(filename)\n",
    "    elif re.match(r'b.*(ba|rrg|er).*backtracking.*aeapbf\\.csv', filename):\n",
    "        filenames_dict['R/AEAP-BF'].append(filename)\n",
    "    elif re.match(r'b.*(ba|rrg|er).*backtracking.*aeapwf\\.csv', filename):\n",
    "        filenames_dict['R/AEAP-WF'].append(filename)\n",
    "    elif re.match(r'b.*(ba|rrg|er).*dijkstra.*aeap\\.csv', filename):\n",
    "        filenames_dict['D/AEAP'].append(filename)\n",
    "    elif re.match(r'o.*(ba|rrg|er).*backtracking.*aeap.*\\.csv', filename):  # only care about R/AEAP\n",
    "        filenames_dict['ILS'].append(filename)\n",
    "\n",
    "objective_value_dict = {}\n",
    "DAEAP_objective_value_list_list = []\n",
    "num_scenarios = 19 * 3 * 6  # all of scenarios\n",
    "no_of_scenarios_mapping = {}\n",
    "for alias in filenames_dict.keys():\n",
    "    objective_value_dict[alias] = []\n",
    "    for i in range(19):\n",
    "        if alias == 'D/AEAP':\n",
    "            DAEAP_objective_value_list_list.append([])\n",
    "        else:\n",
    "            objective_value_dict[alias].append([])\n",
    "for alias, filenames in filenames_dict.items():\n",
    "    for filename in filenames:\n",
    "        with open(os.path.join(DIR_NAME, filename), 'r') as file:\n",
    "            reader = csv.reader(file)\n",
    "            i = 0\n",
    "            for line in reader:\n",
    "                if alias == 'D/AEAP':\n",
    "                    # DAEAP_objective_value_list_list[i].append(float(line[3]) - float(line[7]))\n",
    "                    DAEAP_objective_value_list_list[i].append(float(line[3]))\n",
    "                else:\n",
    "                    # objective_value_dict[alias][i].append(float(line[3]) - float(line[7]))\n",
    "                    objective_value_dict[alias][i].append(float(line[3]))\n",
    "                i += 1\n",
    "            \n",
    "for alias in filenames_dict.keys():\n",
    "    if alias == 'D/AEAP':\n",
    "        continue\n",
    "    objective_value_list_list = objective_value_dict[alias]\n",
    "    Y = [0] * 21  # no. of scenarios\n",
    "    for i in range(19):\n",
    "        objective_value_list = objective_value_list_list[i]\n",
    "        DAEAP_objective_value_list = DAEAP_objective_value_list_list[i]\n",
    "        for j in range(DAEAP_objective_value_list.__len__()):\n",
    "            objective_value = objective_value_list[j]\n",
    "            DAEAP_objective_value = DAEAP_objective_value_list[j]\n",
    "            for k in range(21):\n",
    "                if objective_value >= DAEAP_objective_value * (0.0 + 0.05 * k):\n",
    "                    Y[k] += 1\n",
    "    no_of_scenarios_mapping[alias] = [n / num_scenarios * 100 for n in Y]\n",
    "    \n",
    "markers = {\n",
    "    'R/AEAP': 'o', 'R/AEAP-BF': 'x', 'R/AEAP-WF': '+',\n",
    "    'D/AEAP': 's', 'd-aeapbf': '^', 'd-aeapwf': '<',\n",
    "    'ILS': '*',\n",
    "}\n",
    "colors = {\n",
    "    'R/AEAP': 'blue', 'R/AEAP-BF': 'green', 'R/AEAP-WF': 'red',\n",
    "    'D/AEAP': 'blue', 'd-aeapbf': 'green', 'd-aeapwf': 'red',\n",
    "    'ILS': 'black',\n",
    "}\n",
    "linestyles = {\n",
    "    'R/AEAP': '--', 'R/AEAP-BF': '--', 'R/AEAP-WF': '--',\n",
    "    'D/AEAP': '-', 'd-aeapbf': '-.', 'd-aeapwf': '-.',\n",
    "    'ILS': ':',\n",
    "}\n",
    "tick_spacing = 20\n",
    "x = np.array(np.arange(21) * 5) # relative quality\n",
    "fig_1, ax_1 = plt.subplots(figsize=FIG_SIZE)  # no. of available flows\n",
    "ax_1.set_title('Relative Quality')\n",
    "for alias in filenames_dict.keys():\n",
    "    if alias == 'D/AEAP':\n",
    "        continue\n",
    "    if len(no_of_scenarios_mapping[alias]) == 0:\n",
    "        continue\n",
    "    ax_1.plot(x, no_of_scenarios_mapping[alias], label='{}'.format(alias), \n",
    "              marker=markers[alias], markersize=6, markerfacecolor=colors[alias], color=colors[alias], linestyle=linestyles[alias])\n",
    "    ax_1.set_xlim(x[0], x[-1])\n",
    "    ax_1.xaxis.set_major_locator(ticker.MultipleLocator(tick_spacing))\n",
    "    ax_1.set_xlabel('Relative Quality', fontdict=fontdict)\n",
    "    ax_1.set_ylabel('# of Scenarios (%)', fontdict=fontdict)\n",
    "    ax_1.legend()"
   ]
  }
 ],
 "metadata": {
  "kernelspec": {
   "display_name": "Python 3",
   "language": "python",
   "name": "python3"
  },
  "language_info": {
   "codemirror_mode": {
    "name": "ipython",
    "version": 2
   },
   "file_extension": ".py",
   "mimetype": "text/x-python",
   "name": "python",
   "nbconvert_exporter": "python",
   "pygments_lexer": "ipython2",
   "version": "2.7.6"
  },
  "pycharm": {
   "stem_cell": {
    "cell_type": "raw",
    "source": [],
    "metadata": {
     "collapsed": false
    }
   }
  }
 },
 "nbformat": 4,
 "nbformat_minor": 0
}