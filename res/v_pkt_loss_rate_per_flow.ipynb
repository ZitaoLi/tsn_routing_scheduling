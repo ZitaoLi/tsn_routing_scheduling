{
 "cells": [
  {
   "cell_type": "code",
   "execution_count": 1,
   "metadata": {
    "collapsed": true
   },
   "outputs": [
    {
     "data": {
      "text/plain": "[Text(0, 0, 'flow-1'),\n Text(0, 0, 'flow-2'),\n Text(0, 0, 'flow-3'),\n Text(0, 0, 'flow-4'),\n Text(0, 0, 'flow-5'),\n Text(0, 0, 'flow-6'),\n Text(0, 0, 'flow-7'),\n Text(0, 0, 'flow-8'),\n Text(0, 0, 'flow-9'),\n Text(0, 0, 'flow-10')]"
     },
     "execution_count": 1,
     "metadata": {},
     "output_type": "execute_result"
    },
    {
     "data": {
      "text/plain": "<Figure size 504x360 with 1 Axes>",
      "image/png": "[encoded data removed]"
     },
     "metadata": {
      "needs_background": "light"
     },
     "output_type": "display_data"
    }
   ],
   "source": [
    "import csv\n",
    "%matplotlib inline\n",
    "import numpy as np\n",
    "import os\n",
    "import re\n",
    "import matplotlib.pyplot as plt\n",
    "import matplotlib.ticker as ticker\n",
    "\n",
    "DIR_NAME = './solutions/'\n",
    "FIG_SIZE = (7, 5)  # height * width\n",
    "BAR_WIDTH = 0.2  # width of bar\n",
    "\n",
    "filenames = os.listdir(DIR_NAME)\n",
    "filenames_dict = {\n",
    "    'om-aeap': [],\n",
    "    # 'om-aeapbf': [],\n",
    "    # 'om-aeapwf': [],\n",
    "    'd-aeap': [],\n",
    "    # 'd-aeapbf': [],\n",
    "    # 'd-aeapwf': [],\n",
    "    'op': []\n",
    "}\n",
    "\n",
    "for filename in filenames:\n",
    "    if re.match(r'b.*backtracking.*aeap\\.csv', filename):\n",
    "        filenames_dict['om-aeap'].append(filename)\n",
    "    # elif re.match(r'b.*backtracking.*aeapbf\\.csv', filename):\n",
    "    #     filenames_dict['om-aeapbf'].append(filename)\n",
    "    # elif re.match(r'b.*backtracking.*aeapwf\\.csv', filename):\n",
    "    #     filenames_dict['om-aeapwf'].append(filename)\n",
    "    elif re.match(r'b.*dijkstra.*aeap\\.csv', filename):\n",
    "        filenames_dict['d-aeap'].append(filename)\n",
    "    # elif re.match(r'b.*dijkstra.*aeapbf\\.csv', filename):\n",
    "    #     filenames_dict['d-aeapbf'].append(filename)\n",
    "    # elif re.match(r'b.*dijkstra.*aeapwf\\.csv', filename):\n",
    "    #     filenames_dict['d-aeapwf'].append(filename)\n",
    "    elif re.match(r'o.*backtracking.*aeap\\.csv', filename):  # only care about om-aeap\n",
    "        filenames_dict['op'].append(filename)\n",
    "\n",
    "fig, ax = plt.subplots(figsize=FIG_SIZE)\n",
    "ax.set_title('')\n",
    "labels = ['flow-{}'.format(i) for i in range(1, 20)]  # flows no.\n",
    "x = np.arange(len(labels))\n",
    "\n",
    "i = 0\n",
    "for alias, filenames in filenames_dict.items():\n",
    "    filename = filenames[0]  # take first file\n",
    "    y = []\n",
    "    with open(os.path.join(DIR_NAME, filename), 'r') as file:\n",
    "        reader = csv.reader(file)\n",
    "        for line in reader:\n",
    "            y.append(round(100 - float(line[0]) * 100, 4))  # reliability\n",
    "    x = x[:10]\n",
    "    y = y[:10]\n",
    "    if i < 1:\n",
    "        ax.bar(x - BAR_WIDTH, y, width=BAR_WIDTH, label=alias)\n",
    "    elif i == 1:\n",
    "        ax.bar(x, y, width=BAR_WIDTH, label=alias)\n",
    "    else:\n",
    "        ax.bar(x + BAR_WIDTH, y, width=BAR_WIDTH, label=alias)\n",
    "    i += 1\n",
    "plt.xticks(rotation=-60)\n",
    "ax.legend()\n",
    "ax.set_ylabel('pkt. loss rate')\n",
    "ax.set_ylim(ymax=2)\n",
    "ax.set_xticks(x)\n",
    "labels = labels[:10]\n",
    "ax.set_xticklabels(labels)"
   ]
  }
 ],
 "metadata": {
  "kernelspec": {
   "display_name": "Python 3",
   "language": "python",
   "name": "python3"
  },
  "language_info": {
   "codemirror_mode": {
    "name": "ipython",
    "version": 2
   },
   "file_extension": ".py",
   "mimetype": "text/x-python",
   "name": "python",
   "nbconvert_exporter": "python",
   "pygments_lexer": "ipython2",
   "version": "2.7.6"
  }
 },
 "nbformat": 4,
 "nbformat_minor": 0
}