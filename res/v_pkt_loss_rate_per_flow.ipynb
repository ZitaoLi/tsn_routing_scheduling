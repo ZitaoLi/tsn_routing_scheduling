{
 "cells": [
  {
   "cell_type": "code",
   "execution_count": 1,
   "metadata": {
    "collapsed": true
   },
   "outputs": [
    {
     "data": {
      "text/plain": "<Figure size 504x360 with 1 Axes>",
      "image/png": "[encoded data removed]"
     },
     "metadata": {
      "needs_background": "light"
     },
     "output_type": "display_data"
    }
   ],
   "source": [
    "import csv\n",
    "%matplotlib inline\n",
    "import numpy as np\n",
    "import os\n",
    "import re\n",
    "import matplotlib.pyplot as plt\n",
    "import matplotlib.ticker as ticker\n",
    "\n",
    "DIR_NAME = './solutions/'\n",
    "FIG_SIZE = (7, 5)  # height * width\n",
    "BAR_WIDTH = 0.2  # width of bar\n",
    "FLOW_NUM = 10\n",
    "fontdict = {'family': 'Times New Roman', 'weight': 'normal', 'size':15}\n",
    "colors = {\n",
    "    'R/AEAP': 'blue', 'R/AEAP-BF': 'green', 'R/AEAP-WF': 'red',\n",
    "    'D/AEAP': '#80aaff', 'd-aeapbf': 'green', 'd-aeapwf': 'red',\n",
    "    'ILS': '#999999',\n",
    "}\n",
    "\n",
    "filenames = os.listdir(DIR_NAME)\n",
    "filenames_dict = {\n",
    "    'R/AEAP': [],\n",
    "    'D/AEAP': [],\n",
    "    'ILS': []\n",
    "}\n",
    "\n",
    "for filename in filenames:\n",
    "    if re.match(r'b.*backtracking.*aeap\\.csv', filename):\n",
    "        filenames_dict['R/AEAP'].append(filename)\n",
    "    elif re.match(r'b.*dijkstra.*aeap\\.csv', filename):\n",
    "        filenames_dict['D/AEAP'].append(filename)\n",
    "    elif re.match(r'o.*backtracking.*aeap\\.csv', filename):  # only care about R/AEAP\n",
    "        filenames_dict['ILS'].append(filename)\n",
    "\n",
    "fig, ax = plt.subplots(figsize=FIG_SIZE)\n",
    "ax.set_title('')\n",
    "labels = ['flow-{}'.format(i) for i in range(1, 20)]  # flows no.\n",
    "x = np.arange(len(labels))\n",
    "\n",
    "i = 0\n",
    "for alias, filenames in filenames_dict.items():\n",
    "    filename = filenames[0]  # take first file\n",
    "    y = []\n",
    "    with open(os.path.join(DIR_NAME, filename), 'r') as file:\n",
    "        reader = csv.reader(file)\n",
    "        for line in reader:\n",
    "            y.append(round(100 - float(line[0]) * 100, 4))  # reliability\n",
    "    x = x[:FLOW_NUM]\n",
    "    y = y[:FLOW_NUM]\n",
    "    if i < 1:\n",
    "        ax.bar(x - BAR_WIDTH, y, width=BAR_WIDTH, label=alias, color=colors[alias])\n",
    "    elif i == 1:\n",
    "        ax.bar(x, y, width=BAR_WIDTH, label=alias, color=colors[alias])\n",
    "    else:\n",
    "        ax.bar(x + BAR_WIDTH, y, width=BAR_WIDTH, label=alias, color=colors[alias])\n",
    "    i += 1\n",
    "plt.xticks(rotation=-60)\n",
    "ax.legend()\n",
    "ax.set_ylabel('Pkt. loss rate (%)', fontdict=fontdict)\n",
    "ax.set_ylim(ymin=1, ymax=4.5)\n",
    "ax.set_xticks(x)\n",
    "labels = labels[:FLOW_NUM]\n",
    "ax.set_xticklabels(labels, fontdict=fontdict)\n",
    "fig.savefig('./fig_reliability.png')"
   ]
  }
 ],
 "metadata": {
  "kernelspec": {
   "display_name": "Python 3",
   "language": "python",
   "name": "python3"
  },
  "language_info": {
   "codemirror_mode": {
    "name": "ipython",
    "version": 2
   },
   "file_extension": ".py",
   "mimetype": "text/x-python",
   "name": "python",
   "nbconvert_exporter": "python",
   "pygments_lexer": "ipython2",
   "version": "2.7.6"
  }
 },
 "nbformat": 4,
 "nbformat_minor": 0
}