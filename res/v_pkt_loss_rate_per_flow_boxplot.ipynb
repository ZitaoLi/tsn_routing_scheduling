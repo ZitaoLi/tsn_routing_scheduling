{
 "cells": [
  {
   "cell_type": "code",
   "execution_count": 35,
   "metadata": {
    "collapsed": true
   },
   "outputs": [
    {
     "data": {
      "text/plain": "{'whiskers': [<matplotlib.lines.Line2D at 0x155dc392f48>,\n  <matplotlib.lines.Line2D at 0x155dc398b08>,\n  <matplotlib.lines.Line2D at 0x155dc3a5f08>,\n  <matplotlib.lines.Line2D at 0x155dc3a5c88>,\n  <matplotlib.lines.Line2D at 0x155dc3b2f88>,\n  <matplotlib.lines.Line2D at 0x155dc3b89c8>],\n 'caps': [<matplotlib.lines.Line2D at 0x155dc398f48>,\n  <matplotlib.lines.Line2D at 0x155dc398908>,\n  <matplotlib.lines.Line2D at 0x155dc3abb48>,\n  <matplotlib.lines.Line2D at 0x155dc3abfc8>,\n  <matplotlib.lines.Line2D at 0x155dc3b8e08>,\n  <matplotlib.lines.Line2D at 0x155dc3bec88>],\n 'boxes': [<matplotlib.lines.Line2D at 0x155dc392dc8>,\n  <matplotlib.lines.Line2D at 0x155dc39ee08>,\n  <matplotlib.lines.Line2D at 0x155dc3b2b48>],\n 'medians': [<matplotlib.lines.Line2D at 0x155dc39ec48>,\n  <matplotlib.lines.Line2D at 0x155dc3abf08>,\n  <matplotlib.lines.Line2D at 0x155dc3bea88>],\n 'fliers': [],\n 'means': [<matplotlib.lines.Line2D at 0x155dc39e9c8>,\n  <matplotlib.lines.Line2D at 0x155dc3b2d88>,\n  <matplotlib.lines.Line2D at 0x155dc3beec8>]}"
     },
     "execution_count": 35,
     "metadata": {},
     "output_type": "execute_result"
    },
    {
     "data": {
      "text/plain": "<Figure size 504x360 with 1 Axes>",
      "image/png": "[encoded data removed]"
     },
     "metadata": {
      "needs_background": "light"
     },
     "output_type": "display_data"
    }
   ],
   "source": [
    "%matplotlib inline\n",
    "import numpy as np\n",
    "import matplotlib.pyplot as plt\n",
    "import os\n",
    "import re\n",
    "import csv\n",
    "\n",
    "DIR_NAME = './solutions/'\n",
    "FIG_SIZE = (7, 5)  # height * width\n",
    "\n",
    "fontdict = {'family': 'Times New Roman', 'weight': 'normal', 'size':15}\n",
    "colors = {\n",
    "    'R/AEAP': 'blue', 'R/AEAP-BF': 'green', 'R/AEAP-WF': 'red',\n",
    "    'D/AEAP': '#80aaff', 'd-aeapbf': 'green', 'd-aeapwf': 'red',\n",
    "    'ILS': '#999999',\n",
    "}\n",
    "\n",
    "filenames_dict = {\n",
    "    'R/AEAP': [],\n",
    "    'D/AEAP': [],\n",
    "    'ILS': []\n",
    "}\n",
    "\n",
    "labels = 'R/AEAP', 'D/AEAP', 'ILS'\n",
    "data = []\n",
    "\n",
    "for filename in os.listdir(DIR_NAME):\n",
    "    if re.match(r'b.*backtracking.*aeap\\.csv', filename):\n",
    "        filenames_dict['R/AEAP'].append(filename)\n",
    "    elif re.match(r'b.*dijkstra.*aeap\\.csv', filename):\n",
    "        filenames_dict['D/AEAP'].append(filename)\n",
    "    elif re.match(r'o.*backtracking.*aeap\\.csv', filename):  # only care about R/AEAP\n",
    "        filenames_dict['ILS'].append(filename)\n",
    "\n",
    "fig, ax = plt.subplots(figsize=FIG_SIZE)\n",
    "ax.set_title('')\n",
    "\n",
    "for alias, filenames in filenames_dict.items():  # take first file\n",
    "    rels = []\n",
    "    for filename in filenames:\n",
    "        with open(os.path.join(DIR_NAME, filename), 'r') as file:\n",
    "            reader = csv.reader(file)\n",
    "            for line in reader:\n",
    "                rels.append(float(line[0]) * 100)  # reliability\n",
    "    data.append(rels)\n",
    "\n",
    "# ax.set_ylim(ymin=98, ymax=100)\n",
    "plt.boxplot(data, labels=labels, showmeans=True, showfliers=False, vert=True, whis=0.75)\n",
    "# fig.savefig('./fig_boxplot.png')\n",
    "\n"
   ]
  }
 ],
 "metadata": {
  "kernelspec": {
   "name": "python3",
   "language": "python",
   "display_name": "Python 3"
  },
  "language_info": {
   "codemirror_mode": {
    "name": "ipython",
    "version": 2
   },
   "file_extension": ".py",
   "mimetype": "text/x-python",
   "name": "python",
   "nbconvert_exporter": "python",
   "pygments_lexer": "ipython2",
   "version": "2.7.6"
  }
 },
 "nbformat": 4,
 "nbformat_minor": 0
}